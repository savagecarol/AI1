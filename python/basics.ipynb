{
 "cells": [
  {
   "cell_type": "markdown",
   "id": "7bdf5ad8-aabf-442c-9c0a-16fe5c5234d4",
   "metadata": {},
   "source": [
    "### BASICS OF PYTHON"
   ]
  },
  {
   "cell_type": "code",
   "execution_count": null,
   "id": "9870ea4c-8f3d-4d4f-b2cf-5dc927176411",
   "metadata": {},
   "outputs": [],
   "source": [
    "# comments"
   ]
  },
  {
   "cell_type": "code",
   "execution_count": 8,
   "id": "ce61fd94-1d98-49cb-8ef1-0a8e06467918",
   "metadata": {},
   "outputs": [
    {
     "data": {
      "text/plain": [
       "' \\ncomments\\n'"
      ]
     },
     "execution_count": 8,
     "metadata": {},
     "output_type": "execute_result"
    }
   ],
   "source": [
    "''' \n",
    "comments\n",
    "'''"
   ]
  },
  {
   "cell_type": "code",
   "execution_count": 10,
   "id": "c07327ea-b47a-4b17-a3c0-26fa910f68db",
   "metadata": {},
   "outputs": [
    {
     "name": "stdout",
     "output_type": "stream",
     "text": [
      "a\n"
     ]
    }
   ],
   "source": [
    "print(\"a\")"
   ]
  },
  {
   "cell_type": "code",
   "execution_count": 11,
   "id": "24f29ad8-9c85-412e-ae25-84860a115189",
   "metadata": {},
   "outputs": [
    {
     "name": "stdout",
     "output_type": "stream",
     "text": [
      "Hello, Alice\n"
     ]
    }
   ],
   "source": [
    "name = \"Alice\"\n",
    "print(\"Hello,\", name)"
   ]
  },
  {
   "cell_type": "code",
   "execution_count": 12,
   "id": "b465dd4d-6a86-4bd5-afc1-b0f919627787",
   "metadata": {},
   "outputs": [
    {
     "data": {
      "text/plain": [
       "True"
      ]
     },
     "execution_count": 12,
     "metadata": {},
     "output_type": "execute_result"
    }
   ],
   "source": [
    "name.isalnum()"
   ]
  },
  {
   "cell_type": "code",
   "execution_count": 13,
   "id": "b1a5a07e-16b9-4429-b8c5-d27a76d20caf",
   "metadata": {},
   "outputs": [
    {
     "data": {
      "text/plain": [
       "False"
      ]
     },
     "execution_count": 13,
     "metadata": {},
     "output_type": "execute_result"
    }
   ],
   "source": [
    "name.islower()\n"
   ]
  },
  {
   "cell_type": "code",
   "execution_count": 14,
   "id": "bf34d3d9-8aac-4b4d-a383-cedd46a74218",
   "metadata": {},
   "outputs": [
    {
     "ename": "ModuleNotFoundError",
     "evalue": "No module named 'numpy'",
     "output_type": "error",
     "traceback": [
      "\u001b[0;31m---------------------------------------------------------------------------\u001b[0m",
      "\u001b[0;31mModuleNotFoundError\u001b[0m                       Traceback (most recent call last)",
      "Cell \u001b[0;32mIn[14], line 1\u001b[0m\n\u001b[0;32m----> 1\u001b[0m \u001b[38;5;28;01mimport\u001b[39;00m\u001b[38;5;250m \u001b[39m\u001b[38;5;21;01mnumpy\u001b[39;00m\u001b[38;5;250m \u001b[39m\u001b[38;5;28;01mas\u001b[39;00m\u001b[38;5;250m \u001b[39m\u001b[38;5;21;01mnp\u001b[39;00m\n",
      "\u001b[0;31mModuleNotFoundError\u001b[0m: No module named 'numpy'"
     ]
    }
   ],
   "source": []
  },
  {
   "cell_type": "code",
   "execution_count": 15,
   "id": "1be07a65-254a-4761-94a6-daa2ded4b77b",
   "metadata": {},
   "outputs": [
    {
     "name": "stdout",
     "output_type": "stream",
     "text": [
      "Defaulting to user installation because normal site-packages is not writeable\n",
      "Collecting numpy\n",
      "  Downloading numpy-2.0.2-cp39-cp39-macosx_14_0_arm64.whl (5.3 MB)\n",
      "\u001b[K     |████████████████████████████████| 5.3 MB 3.9 MB/s eta 0:00:01\n",
      "\u001b[?25hInstalling collected packages: numpy\n",
      "Successfully installed numpy-2.0.2\n",
      "\u001b[33mWARNING: You are using pip version 21.2.4; however, version 25.1.1 is available.\n",
      "You should consider upgrading via the '/Library/Developer/CommandLineTools/usr/bin/python3 -m pip install --upgrade pip' command.\u001b[0m\n"
     ]
    }
   ],
   "source": [
    "!pip3 install numpy"
   ]
  },
  {
   "cell_type": "code",
   "execution_count": 16,
   "id": "505d1577-204a-42c7-9bca-a06278396385",
   "metadata": {},
   "outputs": [],
   "source": [
    "import numpy as np\n"
   ]
  },
  {
   "cell_type": "code",
   "execution_count": 17,
   "id": "4cc80545-16d9-4b21-a790-c613f21738e3",
   "metadata": {},
   "outputs": [],
   "source": [
    "my_list = [1,2,34,4,5]"
   ]
  },
  {
   "cell_type": "code",
   "execution_count": 18,
   "id": "9cbdcd07-1142-4d5b-9606-fbce12009207",
   "metadata": {},
   "outputs": [],
   "source": [
    "arr = np.array(my_list)"
   ]
  },
  {
   "cell_type": "code",
   "execution_count": 19,
   "id": "d6ce6384-52e3-4409-b6fb-dbe1a29e0f13",
   "metadata": {},
   "outputs": [
    {
     "name": "stdout",
     "output_type": "stream",
     "text": [
      "[ 1  2 34  4  5]\n"
     ]
    }
   ],
   "source": [
    "print(arr)"
   ]
  },
  {
   "cell_type": "code",
   "execution_count": 20,
   "id": "0e8c9145-01c5-48fe-80be-353ae38c40a2",
   "metadata": {},
   "outputs": [
    {
     "name": "stdout",
     "output_type": "stream",
     "text": [
      "[1, 2, 34, 4, 5]\n"
     ]
    }
   ],
   "source": [
    "print(my_list)"
   ]
  },
  {
   "cell_type": "code",
   "execution_count": 21,
   "id": "8b2bfedd-846e-44ff-abb5-15914fcdc5d3",
   "metadata": {},
   "outputs": [
    {
     "data": {
      "text/plain": [
       "numpy.ndarray"
      ]
     },
     "execution_count": 21,
     "metadata": {},
     "output_type": "execute_result"
    }
   ],
   "source": [
    "type(arr)"
   ]
  },
  {
   "cell_type": "code",
   "execution_count": 22,
   "id": "2c7e9a01-728c-4cc0-a247-ca4cadf11f44",
   "metadata": {},
   "outputs": [
    {
     "data": {
      "text/plain": [
       "(5,)"
      ]
     },
     "execution_count": 22,
     "metadata": {},
     "output_type": "execute_result"
    }
   ],
   "source": [
    "arr.shape\n"
   ]
  },
  {
   "cell_type": "code",
   "execution_count": 26,
   "id": "61e8c712-9ee9-476d-a0bd-fc3a2a43bdc5",
   "metadata": {},
   "outputs": [],
   "source": [
    "my_list1 = [1,2,34,4,5]\n",
    "my_list2 = [4,6,67,78,43]\n",
    "my_list3 = [5,7,3344,75,34]\n",
    "my_list4 = [6,298,3,89,23]\n",
    "arr = np.array([my_list1,my_list2,my_list3,my_list4])"
   ]
  },
  {
   "cell_type": "code",
   "execution_count": 27,
   "id": "45ae689c-c5d6-4104-b51b-422ef72120e4",
   "metadata": {},
   "outputs": [
    {
     "data": {
      "text/plain": [
       "array([[   1,    2,   34,    4,    5],\n",
       "       [   4,    6,   67,   78,   43],\n",
       "       [   5,    7, 3344,   75,   34],\n",
       "       [   6,  298,    3,   89,   23]])"
      ]
     },
     "execution_count": 27,
     "metadata": {},
     "output_type": "execute_result"
    }
   ],
   "source": [
    "arr"
   ]
  },
  {
   "cell_type": "code",
   "execution_count": 28,
   "id": "659edc71-ad8c-4c1e-8c3f-9d990693d200",
   "metadata": {},
   "outputs": [
    {
     "data": {
      "text/plain": [
       "(4, 5)"
      ]
     },
     "execution_count": 28,
     "metadata": {},
     "output_type": "execute_result"
    }
   ],
   "source": [
    "arr.shape"
   ]
  },
  {
   "cell_type": "code",
   "execution_count": 29,
   "id": "34fb270d-0553-4496-9d01-40fa39df8dd1",
   "metadata": {},
   "outputs": [
    {
     "data": {
      "text/plain": [
       "array([[   1,    2,   34,    4],\n",
       "       [   5,    4,    6,   67],\n",
       "       [  78,   43,    5,    7],\n",
       "       [3344,   75,   34,    6],\n",
       "       [ 298,    3,   89,   23]])"
      ]
     },
     "execution_count": 29,
     "metadata": {},
     "output_type": "execute_result"
    }
   ],
   "source": [
    "arr.reshape(5,4)"
   ]
  },
  {
   "cell_type": "code",
   "execution_count": 31,
   "id": "e325ed5b-cebd-40b3-a9e6-dfb179333f41",
   "metadata": {},
   "outputs": [
    {
     "data": {
      "text/plain": [
       "array([[   1,    2],\n",
       "       [  34,    4],\n",
       "       [   5,    4],\n",
       "       [   6,   67],\n",
       "       [  78,   43],\n",
       "       [   5,    7],\n",
       "       [3344,   75],\n",
       "       [  34,    6],\n",
       "       [ 298,    3],\n",
       "       [  89,   23]])"
      ]
     },
     "execution_count": 31,
     "metadata": {},
     "output_type": "execute_result"
    }
   ],
   "source": [
    "arr.reshape(10,2)"
   ]
  },
  {
   "cell_type": "code",
   "execution_count": 33,
   "id": "20d8fdaa-a74d-4b8a-810a-690338b9e0f6",
   "metadata": {},
   "outputs": [
    {
     "data": {
      "text/plain": [
       "array([[   1,    4,    5,    6],\n",
       "       [   2,    6,    7,  298],\n",
       "       [  34,   67, 3344,    3],\n",
       "       [   4,   78,   75,   89],\n",
       "       [   5,   43,   34,   23]])"
      ]
     },
     "execution_count": 33,
     "metadata": {},
     "output_type": "execute_result"
    }
   ],
   "source": [
    "arr.transpose()"
   ]
  },
  {
   "cell_type": "code",
   "execution_count": 42,
   "id": "d35f1b5f-9899-418c-b663-76ed562c9a89",
   "metadata": {},
   "outputs": [],
   "source": [
    "arr = np.arange(0 , 10 , step = 3)"
   ]
  },
  {
   "cell_type": "code",
   "execution_count": 43,
   "id": "4351294f-20bc-4f87-85b6-3b8f67ef7952",
   "metadata": {},
   "outputs": [
    {
     "data": {
      "text/plain": [
       "array([0, 3, 6, 9])"
      ]
     },
     "execution_count": 43,
     "metadata": {},
     "output_type": "execute_result"
    }
   ],
   "source": [
    "arr\n"
   ]
  },
  {
   "cell_type": "code",
   "execution_count": 45,
   "id": "06242303-353d-429d-9cc9-14f010d5b49a",
   "metadata": {},
   "outputs": [
    {
     "data": {
      "text/plain": [
       "array([ 1.        ,  1.04522613,  1.09045226,  1.13567839,  1.18090452,\n",
       "        1.22613065,  1.27135678,  1.31658291,  1.36180905,  1.40703518,\n",
       "        1.45226131,  1.49748744,  1.54271357,  1.5879397 ,  1.63316583,\n",
       "        1.67839196,  1.72361809,  1.76884422,  1.81407035,  1.85929648,\n",
       "        1.90452261,  1.94974874,  1.99497487,  2.04020101,  2.08542714,\n",
       "        2.13065327,  2.1758794 ,  2.22110553,  2.26633166,  2.31155779,\n",
       "        2.35678392,  2.40201005,  2.44723618,  2.49246231,  2.53768844,\n",
       "        2.58291457,  2.6281407 ,  2.67336683,  2.71859296,  2.7638191 ,\n",
       "        2.80904523,  2.85427136,  2.89949749,  2.94472362,  2.98994975,\n",
       "        3.03517588,  3.08040201,  3.12562814,  3.17085427,  3.2160804 ,\n",
       "        3.26130653,  3.30653266,  3.35175879,  3.39698492,  3.44221106,\n",
       "        3.48743719,  3.53266332,  3.57788945,  3.62311558,  3.66834171,\n",
       "        3.71356784,  3.75879397,  3.8040201 ,  3.84924623,  3.89447236,\n",
       "        3.93969849,  3.98492462,  4.03015075,  4.07537688,  4.12060302,\n",
       "        4.16582915,  4.21105528,  4.25628141,  4.30150754,  4.34673367,\n",
       "        4.3919598 ,  4.43718593,  4.48241206,  4.52763819,  4.57286432,\n",
       "        4.61809045,  4.66331658,  4.70854271,  4.75376884,  4.79899497,\n",
       "        4.84422111,  4.88944724,  4.93467337,  4.9798995 ,  5.02512563,\n",
       "        5.07035176,  5.11557789,  5.16080402,  5.20603015,  5.25125628,\n",
       "        5.29648241,  5.34170854,  5.38693467,  5.4321608 ,  5.47738693,\n",
       "        5.52261307,  5.5678392 ,  5.61306533,  5.65829146,  5.70351759,\n",
       "        5.74874372,  5.79396985,  5.83919598,  5.88442211,  5.92964824,\n",
       "        5.97487437,  6.0201005 ,  6.06532663,  6.11055276,  6.15577889,\n",
       "        6.20100503,  6.24623116,  6.29145729,  6.33668342,  6.38190955,\n",
       "        6.42713568,  6.47236181,  6.51758794,  6.56281407,  6.6080402 ,\n",
       "        6.65326633,  6.69849246,  6.74371859,  6.78894472,  6.83417085,\n",
       "        6.87939698,  6.92462312,  6.96984925,  7.01507538,  7.06030151,\n",
       "        7.10552764,  7.15075377,  7.1959799 ,  7.24120603,  7.28643216,\n",
       "        7.33165829,  7.37688442,  7.42211055,  7.46733668,  7.51256281,\n",
       "        7.55778894,  7.60301508,  7.64824121,  7.69346734,  7.73869347,\n",
       "        7.7839196 ,  7.82914573,  7.87437186,  7.91959799,  7.96482412,\n",
       "        8.01005025,  8.05527638,  8.10050251,  8.14572864,  8.19095477,\n",
       "        8.2361809 ,  8.28140704,  8.32663317,  8.3718593 ,  8.41708543,\n",
       "        8.46231156,  8.50753769,  8.55276382,  8.59798995,  8.64321608,\n",
       "        8.68844221,  8.73366834,  8.77889447,  8.8241206 ,  8.86934673,\n",
       "        8.91457286,  8.95979899,  9.00502513,  9.05025126,  9.09547739,\n",
       "        9.14070352,  9.18592965,  9.23115578,  9.27638191,  9.32160804,\n",
       "        9.36683417,  9.4120603 ,  9.45728643,  9.50251256,  9.54773869,\n",
       "        9.59296482,  9.63819095,  9.68341709,  9.72864322,  9.77386935,\n",
       "        9.81909548,  9.86432161,  9.90954774,  9.95477387, 10.        ])"
      ]
     },
     "execution_count": 45,
     "metadata": {},
     "output_type": "execute_result"
    }
   ],
   "source": [
    "np.linspace(1 , 10 , 200)"
   ]
  },
  {
   "cell_type": "markdown",
   "id": "69b2ff7e-8155-468c-88bf-7d41e834ceba",
   "metadata": {},
   "source": [
    "## copy and brodcasting\n",
    "\n",
    "arr1 = arr (with same reference)\n",
    "\n",
    "arr1.copy() (other memory space and work seperately)\n"
   ]
  },
  {
   "cell_type": "code",
   "execution_count": 51,
   "id": "72deb00e-3f51-4eff-99af-1679234b7692",
   "metadata": {},
   "outputs": [
    {
     "data": {
      "text/plain": [
       "array([1., 1., 1., 1.])"
      ]
     },
     "execution_count": 51,
     "metadata": {},
     "output_type": "execute_result"
    }
   ],
   "source": [
    "np.ones(4)"
   ]
  },
  {
   "cell_type": "code",
   "execution_count": 52,
   "id": "0806c881-d4eb-407d-90be-ba0c88cab5a2",
   "metadata": {},
   "outputs": [
    {
     "data": {
      "text/plain": [
       "array([1, 1, 1, 1])"
      ]
     },
     "execution_count": 52,
     "metadata": {},
     "output_type": "execute_result"
    }
   ],
   "source": [
    "np.ones(4 , dtype = int)"
   ]
  },
  {
   "cell_type": "code",
   "execution_count": 54,
   "id": "a54252fa-d881-4973-b4aa-b7403dcf17e8",
   "metadata": {},
   "outputs": [
    {
     "data": {
      "text/plain": [
       "array([[1., 1., 1.],\n",
       "       [1., 1., 1.],\n",
       "       [1., 1., 1.]])"
      ]
     },
     "execution_count": 54,
     "metadata": {},
     "output_type": "execute_result"
    }
   ],
   "source": [
    "np.ones((3,3))"
   ]
  },
  {
   "cell_type": "code",
   "execution_count": 55,
   "id": "9d9bc408-cd4c-4051-ab18-1d1cdaf9aa9a",
   "metadata": {},
   "outputs": [],
   "source": [
    "arr_exp = np.random.rand(3,3)"
   ]
  },
  {
   "cell_type": "code",
   "execution_count": 56,
   "id": "ecdbee7c-444b-4362-a9a7-886c0bb1f96c",
   "metadata": {},
   "outputs": [
    {
     "data": {
      "text/plain": [
       "array([[0.39220566, 0.05033379, 0.55538812],\n",
       "       [0.89330093, 0.83134302, 0.26643294],\n",
       "       [0.49755492, 0.75136769, 0.01938078]])"
      ]
     },
     "execution_count": 56,
     "metadata": {},
     "output_type": "execute_result"
    }
   ],
   "source": [
    "arr_exp"
   ]
  },
  {
   "cell_type": "code",
   "execution_count": 57,
   "id": "db432676-6b97-4006-8804-72f69e746e88",
   "metadata": {},
   "outputs": [],
   "source": [
    "arr_exp1 = np.random.randn(3,3)"
   ]
  },
  {
   "cell_type": "code",
   "execution_count": 58,
   "id": "68d1da98-6bd1-481a-a6bd-1783899cbfd4",
   "metadata": {},
   "outputs": [
    {
     "data": {
      "text/plain": [
       "array([[ 0.85190917, -0.32002475, -0.3627858 ],\n",
       "       [ 0.25239869,  0.55856519, -1.82404424],\n",
       "       [-0.6939215 , -1.4663269 ,  1.65092846]])"
      ]
     },
     "execution_count": 58,
     "metadata": {},
     "output_type": "execute_result"
    }
   ],
   "source": [
    "arr_exp1\n"
   ]
  },
  {
   "cell_type": "code",
   "execution_count": null,
   "id": "c2174386-c4ef-42c0-a016-8f16ce0d4081",
   "metadata": {},
   "outputs": [],
   "source": []
  }
 ],
 "metadata": {
  "kernelspec": {
   "display_name": "Python 3 (ipykernel)",
   "language": "python",
   "name": "python3"
  },
  "language_info": {
   "codemirror_mode": {
    "name": "ipython",
    "version": 3
   },
   "file_extension": ".py",
   "mimetype": "text/x-python",
   "name": "python",
   "nbconvert_exporter": "python",
   "pygments_lexer": "ipython3",
   "version": "3.9.6"
  }
 },
 "nbformat": 4,
 "nbformat_minor": 5
}
